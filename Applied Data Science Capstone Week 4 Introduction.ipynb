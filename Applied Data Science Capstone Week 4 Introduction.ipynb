{
 "cells": [
  {
   "cell_type": "markdown",
   "metadata": {
    "collapsed": true
   },
   "source": [
    "# The Battle of the Neighborhoods"
   ]
  },
  {
   "cell_type": "markdown",
   "metadata": {},
   "source": [
    "### Study of Toronto to determine feasibility of a new restaurant"
   ]
  },
  {
   "cell_type": "markdown",
   "metadata": {},
   "source": [
    "### Introduction"
   ]
  },
  {
   "cell_type": "markdown",
   "metadata": {},
   "source": [
    "We will use the City of Toronto data.  This will include more than one data source as outlined in the data document\n",
    "\n",
    "The assumption is that capital has been secured to open a new restaurant somewhere in Toronto.  The investor would like to \n",
    "maximize profit which means they will need to analyze competitors and study customer incomes in various neighborhoods.\n"
   ]
  },
  {
   "cell_type": "markdown",
   "metadata": {},
   "source": [
    "### Business Problem\n"
   ]
  },
  {
   "cell_type": "markdown",
   "metadata": {},
   "source": [
    "Toronto is the capital of Ontario and is the most populous city in Canada.  The population is nearly 3 million people as of this writing.\n",
    "The Greater Toronto Area holds a population of nearly 6 million people.  Additionally it is a tourist destination for citizens from around\n",
    "the world.  Toronto is one of the fastest growing cities in North America.\n",
    "\n",
    "Toronto was formed by many separate municipalities.  These municipalities have now become different districts.  Much like New York has burroughs.\n",
    "These districts include East York, Etobicoke, Forest Hill, Mimico, North York, Parkdale, Scarborough, Swansea, Weston and York.\n",
    "\n",
    "Having such vast population and big geographical area, there also exists big competition between businesses. Therefore it became very challenging \n",
    "for an investor in a new business to decide which area they should start their business. The idea being that the owner wanted the lowest competition\n",
    "and the highest profit.\n"
   ]
  },
  {
   "cell_type": "markdown",
   "metadata": {},
   "source": [
    "#### Target Audience: New Restaurant business that wants to open in Toronto metro area"
   ]
  },
  {
   "cell_type": "markdown",
   "metadata": {},
   "source": [
    "The project is attempting to solve problem of determining what location is best to open a new restaurant with the end goal of maximizing store profits in Toronto."
   ]
  }
 ],
 "metadata": {
  "kernelspec": {
   "display_name": "Python 3.6",
   "language": "python",
   "name": "python3"
  },
  "language_info": {
   "codemirror_mode": {
    "name": "ipython",
    "version": 3
   },
   "file_extension": ".py",
   "mimetype": "text/x-python",
   "name": "python",
   "nbconvert_exporter": "python",
   "pygments_lexer": "ipython3",
   "version": "3.6.9"
  }
 },
 "nbformat": 4,
 "nbformat_minor": 1
}
